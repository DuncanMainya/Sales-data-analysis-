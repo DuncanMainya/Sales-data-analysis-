{
 "cells": [
  {
   "cell_type": "code",
   "execution_count": 57,
   "id": "644c816a",
   "metadata": {},
   "outputs": [],
   "source": [
    "import pandas as pd"
   ]
  },
  {
   "cell_type": "code",
   "execution_count": 58,
   "id": "2a272a81",
   "metadata": {},
   "outputs": [],
   "source": [
    "#Reading the dataset\n",
    "data = pd.read_csv(r'C:\\Users\\Dan\\Desktop\\Sales Data Analysis Project\\data\\raw superstore data.csv')\n",
    "\n",
    "#Creating Dataframe\n",
    "df = pd.DataFrame(data)"
   ]
  },
  {
   "cell_type": "markdown",
   "id": "5097ae0f",
   "metadata": {},
   "source": [
    "Identifying and handling missing values"
   ]
  },
  {
   "cell_type": "code",
   "execution_count": 59,
   "id": "b2129d08",
   "metadata": {},
   "outputs": [
    {
     "data": {
      "text/plain": [
       "Row ID            0\n",
       "Order ID          0\n",
       "Order Date        0\n",
       "Ship Date         0\n",
       "Ship Mode         0\n",
       "Customer ID       0\n",
       "Customer Name     0\n",
       "Segment           0\n",
       "Country           0\n",
       "City              0\n",
       "State             0\n",
       "Postal Code      11\n",
       "Region            0\n",
       "Product ID        0\n",
       "Category          0\n",
       "Sub-Category      0\n",
       "Product Name      0\n",
       "Sales             0\n",
       "dtype: int64"
      ]
     },
     "execution_count": 59,
     "metadata": {},
     "output_type": "execute_result"
    }
   ],
   "source": [
    "#Check for  missing values\n",
    "df.isna().sum()"
   ]
  },
  {
   "cell_type": "code",
   "execution_count": 60,
   "id": "0b5001ea",
   "metadata": {},
   "outputs": [],
   "source": [
    "#Fill missing values\n",
    "df['Postal Code'] = df['Postal Code'].fillna(0.0)\n"
   ]
  },
  {
   "cell_type": "markdown",
   "id": "de9cb7cd",
   "metadata": {},
   "source": [
    "Check for duplicates"
   ]
  },
  {
   "cell_type": "code",
   "execution_count": 61,
   "id": "1213ba91",
   "metadata": {},
   "outputs": [
    {
     "data": {
      "text/plain": [
       "np.int64(0)"
      ]
     },
     "execution_count": 61,
     "metadata": {},
     "output_type": "execute_result"
    }
   ],
   "source": [
    "df.duplicated(['Row ID']).sum()"
   ]
  },
  {
   "cell_type": "markdown",
   "id": "21ba8e32",
   "metadata": {},
   "source": [
    "Fixing Data Types"
   ]
  },
  {
   "cell_type": "code",
   "execution_count": 62,
   "id": "d47070b6",
   "metadata": {},
   "outputs": [
    {
     "data": {
      "text/plain": [
       "Row ID             int64\n",
       "Order ID          object\n",
       "Order Date        object\n",
       "Ship Date         object\n",
       "Ship Mode         object\n",
       "Customer ID       object\n",
       "Customer Name     object\n",
       "Segment           object\n",
       "Country           object\n",
       "City              object\n",
       "State             object\n",
       "Postal Code      float64\n",
       "Region            object\n",
       "Product ID        object\n",
       "Category          object\n",
       "Sub-Category      object\n",
       "Product Name      object\n",
       "Sales            float64\n",
       "dtype: object"
      ]
     },
     "execution_count": 62,
     "metadata": {},
     "output_type": "execute_result"
    }
   ],
   "source": [
    "#Check for data types\n",
    "df.dtypes"
   ]
  },
  {
   "cell_type": "markdown",
   "id": "fc0ec7e6",
   "metadata": {},
   "source": [
    "Turning columns into datetime"
   ]
  },
  {
   "cell_type": "code",
   "execution_count": 63,
   "id": "864a5db9",
   "metadata": {},
   "outputs": [],
   "source": [
    "df['Order Date'] = pd.to_datetime(df['Order Date'],format='mixed',dayfirst=True) #Turning Order Date column to a datetime dtype\n",
    "df['Order Date'] = df['Order Date'].ffill() #Filling missing values\n",
    "\n",
    "df['Ship Date'] = pd.to_datetime(df['Ship Date'], format='mixed', dayfirst=True)  \n",
    "df['Ship Date'] = df['Ship Date'].ffill()\n",
    "\n"
   ]
  },
  {
   "cell_type": "markdown",
   "id": "502d6e9e",
   "metadata": {},
   "source": [
    "Turning columns into category dtypes"
   ]
  },
  {
   "cell_type": "code",
   "execution_count": 64,
   "id": "17ceef7c",
   "metadata": {},
   "outputs": [
    {
     "name": "stdout",
     "output_type": "stream",
     "text": [
      "category\n"
     ]
    }
   ],
   "source": [
    "#Ship Mode , Segment, country, Region, Category, Subcategory, \n",
    "#Creating a function that turns columns into categorical dtypes\n",
    "def turn_to_category_dtype(cols:list, df=df):\n",
    "    for col in cols:\n",
    "        df[col] = df[col].astype('category')\n",
    "        \n",
    "\n",
    "turn_to_category_dtype(['Country','Segment', 'Ship Mode', 'Region', 'Category', 'Sub-Category'])\n",
    "print(df['Segment'].dtype)"
   ]
  },
  {
   "cell_type": "markdown",
   "id": "dea23594",
   "metadata": {},
   "source": [
    "Handling Outliers"
   ]
  },
  {
   "cell_type": "code",
   "execution_count": 65,
   "id": "932a9d2e",
   "metadata": {},
   "outputs": [
    {
     "data": {
      "text/plain": [
       "count     9800.000000\n",
       "mean       230.769059\n",
       "std        626.651875\n",
       "min          0.444000\n",
       "25%         17.248000\n",
       "50%         54.490000\n",
       "75%        210.605000\n",
       "max      22638.480000\n",
       "Name: Sales, dtype: float64"
      ]
     },
     "execution_count": 65,
     "metadata": {},
     "output_type": "execute_result"
    }
   ],
   "source": [
    "df['Sales'].describe() #Getting full stats of the sales column"
   ]
  },
  {
   "cell_type": "code",
   "execution_count": 66,
   "id": "50ba1bb3",
   "metadata": {},
   "outputs": [
    {
     "data": {
      "image/png": "[encoded data removed]",
      "text/plain": [
       "<Figure size 640x480 with 1 Axes>"
      ]
     },
     "metadata": {},
     "output_type": "display_data"
    }
   ],
   "source": [
    "#Plotting a bar graph to detect outliers\n",
    "import matplotlib.pyplot as plt\n",
    "\n",
    "fig, axs = plt.subplots()\n",
    "axs.bar(df['Row ID'], height=df['Sales'])\n",
    "plt.show()"
   ]
  },
  {
   "cell_type": "markdown",
   "id": "c9aa9bd1",
   "metadata": {},
   "source": [
    "String Cleaning"
   ]
  },
  {
   "cell_type": "code",
   "execution_count": 67,
   "id": "df57daa6",
   "metadata": {},
   "outputs": [],
   "source": [
    "#Cleaning column names\n",
    "df.columns = df.columns.str.lower().str.replace(' ', '_').str.replace('-','_')\n"
   ]
  },
  {
   "cell_type": "code",
   "execution_count": 68,
   "id": "4e1442c3",
   "metadata": {},
   "outputs": [],
   "source": [
    "#Cleaning column Values\n",
    "# We start by removing leading or trailing spaces in the following columns:\n",
    "\n",
    "df['ship_mode'] = df['ship_mode'].str.lstrip().str.rstrip()\n",
    "\n",
    "def remove_trailing_leading_spaces(cols, df=df):\n",
    "    \"\"\"This function removes trailing and leading spaces in values in every column passed\"\"\"\n",
    "    for col in cols:\n",
    "        df[col] = df[col].str.lstrip().str.lstrip()\n",
    "\n",
    "\n",
    "remove_trailing_leading_spaces([\"order_id\",\"ship_mode\",\"customer_id\",\"customer_name\", \"segment\", \"country\",\"city\",\"state\",\"region\",\"category\",\"sub_category\",\"product_id\",\"product_name\"])\n",
    "\n",
    "def title_case_col_values(cols, df=df):\n",
    "    \"\"\"Function changes strings into titlecase\"\"\"\n",
    "    for col in cols:\n",
    "        df[col] = df[col].str.title()\n",
    "\n",
    "title_case_col_values([\"order_id\",\"ship_mode\",\"customer_id\",\"customer_name\", \"segment\", \"country\",\"city\",\"state\",\"region\",\"category\",\"sub_category\",\"product_id\",\"product_name\"])"
   ]
  },
  {
   "cell_type": "markdown",
   "id": "f2a4b203",
   "metadata": {},
   "source": [
    "Exporting Data"
   ]
  },
  {
   "cell_type": "code",
   "execution_count": 69,
   "id": "5099d767",
   "metadata": {},
   "outputs": [],
   "source": [
    "df.to_csv(r\"C:\\Users\\Dan\\Desktop\\Sales Data Analysis Project\\data\\cleaned_superstore.csv\", index=False)"
   ]
  },
  {
   "cell_type": "code",
   "execution_count": 70,
   "id": "a5af239f",
   "metadata": {},
   "outputs": [
    {
     "data": {
      "text/plain": [
       "row_id                    int64\n",
       "order_id                 object\n",
       "order_date       datetime64[ns]\n",
       "ship_date        datetime64[ns]\n",
       "ship_mode                object\n",
       "customer_id              object\n",
       "customer_name            object\n",
       "segment                  object\n",
       "country                  object\n",
       "city                     object\n",
       "state                    object\n",
       "postal_code             float64\n",
       "region                   object\n",
       "product_id               object\n",
       "category                 object\n",
       "sub_category             object\n",
       "product_name             object\n",
       "sales                   float64\n",
       "dtype: object"
      ]
     },
     "execution_count": 70,
     "metadata": {},
     "output_type": "execute_result"
    }
   ],
   "source": [
    "df.dtypes"
   ]
  }
 ],
 "metadata": {
  "kernelspec": {
   "display_name": "Python 3",
   "language": "python",
   "name": "python3"
  },
  "language_info": {
   "codemirror_mode": {
    "name": "ipython",
    "version": 3
   },
   "file_extension": ".py",
   "mimetype": "text/x-python",
   "name": "python",
   "nbconvert_exporter": "python",
   "pygments_lexer": "ipython3",
   "version": "3.13.1"
  }
 },
 "nbformat": 4,
 "nbformat_minor": 5
}
